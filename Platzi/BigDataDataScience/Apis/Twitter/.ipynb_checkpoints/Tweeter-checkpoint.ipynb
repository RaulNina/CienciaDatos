{
 "cells": [
  {
   "cell_type": "markdown",
   "metadata": {},
   "source": [
    "# Recopilar Datos"
   ]
  },
  {
   "cell_type": "code",
   "execution_count": 2,
   "metadata": {
    "scrolled": true
   },
   "outputs": [
    {
     "name": "stdout",
     "output_type": "stream",
     "text": [
      "Collecting tweepy\n",
      "  Downloading https://files.pythonhosted.org/packages/d5/5f/daac4b4e9b30d7d2a6fdd16a880ff79f27918fe388e4dfc1983dec3a9876/tweepy-3.7.0-py2.py3-none-any.whl\n",
      "Collecting requests-oauthlib>=0.7.0 (from tweepy)\n",
      "  Downloading https://files.pythonhosted.org/packages/c2/e2/9fd03d55ffb70fe51f587f20bcf407a6927eb121de86928b34d162f0b1ac/requests_oauthlib-1.2.0-py2.py3-none-any.whl\n",
      "Collecting PySocks>=1.5.7 (from tweepy)\n",
      "  Downloading https://files.pythonhosted.org/packages/53/12/6bf1d764f128636cef7408e8156b7235b150ea31650d0260969215bb8e7d/PySocks-1.6.8.tar.gz (283kB)\n",
      "Requirement already satisfied: six>=1.10.0 in c:\\users\\ranina\\appdata\\local\\programs\\python\\python37\\lib\\site-packages (from tweepy) (1.12.0)\n",
      "Collecting requests>=2.11.1 (from tweepy)\n",
      "  Downloading https://files.pythonhosted.org/packages/7d/e3/20f3d364d6c8e5d2353c72a67778eb189176f08e873c9900e10c0287b84b/requests-2.21.0-py2.py3-none-any.whl (57kB)\n",
      "Collecting oauthlib>=3.0.0 (from requests-oauthlib>=0.7.0->tweepy)\n",
      "  Downloading https://files.pythonhosted.org/packages/16/95/699466b05b72b94a41f662dc9edf87fda4289e3602ecd42d27fcaddf7b56/oauthlib-3.0.1-py2.py3-none-any.whl (142kB)\n",
      "Collecting chardet<3.1.0,>=3.0.2 (from requests>=2.11.1->tweepy)\n",
      "  Downloading https://files.pythonhosted.org/packages/bc/a9/01ffebfb562e4274b6487b4bb1ddec7ca55ec7510b22e4c51f14098443b8/chardet-3.0.4-py2.py3-none-any.whl (133kB)\n",
      "Collecting certifi>=2017.4.17 (from requests>=2.11.1->tweepy)\n",
      "  Downloading https://files.pythonhosted.org/packages/9f/e0/accfc1b56b57e9750eba272e24c4dddeac86852c2bebd1236674d7887e8a/certifi-2018.11.29-py2.py3-none-any.whl (154kB)\n",
      "Collecting idna<2.9,>=2.5 (from requests>=2.11.1->tweepy)\n",
      "  Downloading https://files.pythonhosted.org/packages/14/2c/cd551d81dbe15200be1cf41cd03869a46fe7226e7450af7a6545bfc474c9/idna-2.8-py2.py3-none-any.whl (58kB)\n",
      "Collecting urllib3<1.25,>=1.21.1 (from requests>=2.11.1->tweepy)\n",
      "  Downloading https://files.pythonhosted.org/packages/62/00/ee1d7de624db8ba7090d1226aebefab96a2c71cd5cfa7629d6ad3f61b79e/urllib3-1.24.1-py2.py3-none-any.whl (118kB)\n",
      "Building wheels for collected packages: PySocks\n",
      "  Running setup.py bdist_wheel for PySocks: started\n",
      "  Running setup.py bdist_wheel for PySocks: finished with status 'done'\n",
      "  Stored in directory: C:\\Users\\RANINA\\AppData\\Local\\pip\\Cache\\wheels\\22\\5c\\b5\\12e0dfdfa85bea67b23628b6425fae715c687e947a45ee3df9\n",
      "Successfully built PySocks\n",
      "Installing collected packages: oauthlib, chardet, certifi, idna, urllib3, requests, requests-oauthlib, PySocks, tweepy\n",
      "Successfully installed PySocks-1.6.8 certifi-2018.11.29 chardet-3.0.4 idna-2.8 oauthlib-3.0.1 requests-2.21.0 requests-oauthlib-1.2.0 tweepy-3.7.0 urllib3-1.24.1\n"
     ]
    },
    {
     "name": "stderr",
     "output_type": "stream",
     "text": [
      "  Retrying (Retry(total=4, connect=None, read=None, redirect=None, status=None)) after connection broken by 'NewConnectionError('<pip._vendor.urllib3.connection.VerifiedHTTPSConnection object at 0x0000025C8E9177F0>: Failed to establish a new connection: [Errno 11002] getaddrinfo failed')': /packages/d5/5f/daac4b4e9b30d7d2a6fdd16a880ff79f27918fe388e4dfc1983dec3a9876/tweepy-3.7.0-py2.py3-none-any.whl\n",
      "  Retrying (Retry(total=3, connect=None, read=None, redirect=None, status=None)) after connection broken by 'NewConnectionError('<pip._vendor.urllib3.connection.VerifiedHTTPSConnection object at 0x0000025C8E917CF8>: Failed to establish a new connection: [Errno 11002] getaddrinfo failed')': /packages/d5/5f/daac4b4e9b30d7d2a6fdd16a880ff79f27918fe388e4dfc1983dec3a9876/tweepy-3.7.0-py2.py3-none-any.whl\n"
     ]
    }
   ],
   "source": [
    "!pip install tweepy"
   ]
  },
  {
   "cell_type": "code",
   "execution_count": 1,
   "metadata": {},
   "outputs": [],
   "source": [
    "import os\n",
    "import tweepy\n",
    "from tweepy import Stream\n",
    "\n",
    "from stream_listener import FiniteStreamListener"
   ]
  },
  {
   "cell_type": "code",
   "execution_count": 2,
   "metadata": {},
   "outputs": [],
   "source": [
    "CONSUMER_KEY = 'PXzoGjRZKSW2prjseHquTr5ZR'\n",
    "CONSUMER_SECRET = 'c2uWeir51VfRCZxQCTcuEhgVpWt0Z5bEpqLxiZTCRuuyckzS8v'\n",
    "ACCESS_TOKEN = '1071469936931950593-qpzbEloFtKS3C3RYNRmVCIwAVTbWmi'\n",
    "ACCESS_TOKEN_SECRET = '2k8lUTCN2QMeNNJ2Zbby0CcJ3CSNwnVy1wLvmgclpQPCY'"
   ]
  },
  {
   "cell_type": "code",
   "execution_count": 3,
   "metadata": {},
   "outputs": [],
   "source": [
    "COLOMBIA_GEO_LOCATION_BOUNDING_BOX = [-78.31, 0.44, -70.71, 11.39]\n",
    "NUMBER_OF_TWEETS = 100"
   ]
  },
  {
   "cell_type": "code",
   "execution_count": 4,
   "metadata": {},
   "outputs": [],
   "source": [
    "auth = tweepy.OAuthHandler(CONSUMER_KEY, CONSUMER_SECRET)\n",
    "auth.set_access_token(ACCESS_TOKEN, ACCESS_TOKEN_SECRET)\n",
    "api = tweepy.API(auth)"
   ]
  },
  {
   "cell_type": "markdown",
   "metadata": {},
   "source": [
    "# Establecer una conexion al API de Twitter "
   ]
  },
  {
   "cell_type": "code",
   "execution_count": 5,
   "metadata": {},
   "outputs": [],
   "source": [
    "finite_stream_listener = FiniteStreamListener(number_of_tweets=NUMBER_OF_TWEETS)\n",
    "streaming_api = Stream(auth=auth, listener=finite_stream_listener)"
   ]
  },
  {
   "cell_type": "markdown",
   "metadata": {},
   "source": [
    "# Sorber del firehouse"
   ]
  },
  {
   "cell_type": "code",
   "execution_count": 7,
   "metadata": {},
   "outputs": [],
   "source": [
    "streaming_api.filter(locations=COLOMBIA_GEO_LOCATION_BOUNDING_BOX)"
   ]
  },
  {
   "cell_type": "markdown",
   "metadata": {},
   "source": [
    "# Limpiar Datos"
   ]
  },
  {
   "cell_type": "code",
   "execution_count": 10,
   "metadata": {},
   "outputs": [
    {
     "name": "stdout",
     "output_type": "stream",
     "text": [
      "^C\n"
     ]
    }
   ],
   "source": [
    "!pip install unidecode"
   ]
  },
  {
   "cell_type": "code",
   "execution_count": 8,
   "metadata": {},
   "outputs": [],
   "source": [
    "from unidecode import unidecode"
   ]
  },
  {
   "cell_type": "markdown",
   "metadata": {},
   "source": [
    "## Definir funciones de limpieza "
   ]
  },
  {
   "cell_type": "code",
   "execution_count": 9,
   "metadata": {},
   "outputs": [],
   "source": [
    "def make_lowercase(tweet):\n",
    "    return tweet.lower()\n",
    "\n",
    "def remove_diacritics(tweet):\n",
    "    return unidecode(tweet)\n",
    "\n",
    "def remove_non_alpha_characters(tweet):\n",
    "    return ''.join(character for character in tweet if character.isalpha() or character == ' ')"
   ]
  },
  {
   "cell_type": "markdown",
   "metadata": {},
   "source": [
    "## Aplicar funciones "
   ]
  },
  {
   "cell_type": "code",
   "execution_count": 10,
   "metadata": {},
   "outputs": [
    {
     "data": {
      "text/plain": [
       "['Cuándo me encuentro en una reunión dónde muchos no me conocen y empiezan a hablar de leyes y hablan locuras, yo calladita...',\n",
       " 'Alguien quiere mango 😊😊😊😊😊😊😊 https://t.co/ujM48vPcCw',\n",
       " '@dannyaddam @amaliaandrade_ @NelaGonzalez Mira estás dos entrevistas \\nhttps://t.co/lJ69bVAw4D \\nhttps://t.co/3kQgiWk82I',\n",
       " \"WHY DON'T WE - AUSTIN MAHONE\\n🎶🎶🎶🎶🎶🎶🎶🎶🎶🎶\",\n",
       " '@castrocov14 JAJAJAJAJAJAJAJAJAJAJA',\n",
       " '¡Bienvenidos! https://t.co/iKHGKDl1ST',\n",
       " '@Alejalopezm09 Fajardo, hermano, le hablan. JAJAJAJA',\n",
       " '@JorgeSa14881618 @CaracolRadio Siiiii',\n",
       " '#BuenosDias  #BuenJueves #Tbt  II\\nEstá Noche Nos Fuimos Con Otro  #HimnoMundial Del #Reggaeton #CosaBuena De… https://t.co/l02UyMy8ux',\n",
       " '@ThePerezHilton Pre-save my Ep #OnMyWay on #Spotify #spotifyindia #spotifyplaylist #NewMusicFriday available on Apr… https://t.co/VLtyAILLd3',\n",
       " 'PARABÉNS PRO AMOR DA MINHA VIDA!!! SEMPRE JUNTOS, NA DERROTA OU GLÓRIA!!!!! @SCInternacional',\n",
       " '.',\n",
       " '@ArianaGrande ♥️♥️',\n",
       " 'Soy virgen y que🌚😂',\n",
       " '@albertTrejosG https://t.co/QEmNqI0Veh',\n",
       " '@ErikaOcampo10 Pues yo 💁',\n",
       " '@Bryc_o Jajajajaja te amo llega ya',\n",
       " '😍',\n",
       " '@SleepyMemory @julxval Todo un capítulo con esta trama sería increíble!!! Siempre he querido saber de sus vidas pas… https://t.co/7vl1NjipQD',\n",
       " '@kamila_pertuz educacion pero desafortunadamente eso no es prioridad para el estado y los privados los mueve el interes economico !',\n",
       " '@marjuhernandez Cuando es a ella si, y le aprieto las nalgas!!!',\n",
       " 'Con La Bendición De DIOS❤️',\n",
       " 'Xadrez Matupaense tem reconhecimento nacional e recebe homenagens em São Paulo\\nhttps://t.co/55YcaOMXVM',\n",
       " 'Buenos días ❤️🌚',\n",
       " '@petrogustavo Ja,Ja,ja,ja',\n",
       " '@CamilaCuestaP Jajaja tengo que buscar esa palabra.',\n",
       " '#TopProveedoresTIC inicia con su Show Live Play View y en está ocasión le preguntamos a Manuel Campos, Gerente Come… https://t.co/aPU7vOYzXh',\n",
       " '@311Panama @PanamaOesteC13 @ElDenCiud @denunciapmoeste @ProtegeryServir @TReporta @tvnnoticias @MetroLibrePTY… https://t.co/F1m1L2QdrY',\n",
       " '@johhnorlandos @johnnyorlando Pre-save my Ep #OnMyWay on #Spotify #spotifyindia #spotifyplaylist #NewMusicFriday av… https://t.co/i4XSIQ8Y8g',\n",
       " '@sandherj @CaracolRadio A su mamá?? Siiii',\n",
       " '@valeriasantosb @IvanDuque DUQUE FIRME. NO PUEDE LLEVAR SOBRE SUS HOMBROS SEMEJANTE ABUSO CON LOS COLOMBIANOS. COLO… https://t.co/q9ALCcx7Xp',\n",
       " \"@oscarandres123 \\n  La verdadera extensión de 'El Ubérrimo': la hacienda de Álvaro Uribe https://t.co/mn0fSPFv1I\",\n",
       " '#EjercitoControleLaMingaSioNo https://t.co/tfuuGsWV4d https://t.co/Lt4ejsRBIE https://t.co/o8wrLPj3DU… https://t.co/M1K0VfzeSb',\n",
       " 'Mi obsesión por esta canción no es normal https://t.co/d1aiqrWQRg',\n",
       " 'Dedicación solemne del profesor @JorgeLPintoA a don Luis Ernesto (su señor padre), más el significado de recuperar… https://t.co/RffsBfG32W',\n",
       " '@PLinero Amén,D.T.B.',\n",
       " '@FichajeGoleador @ManCityGoleador @ManCity Sería espectacular que lo ganen todo 😍',\n",
       " '@DiazCanelB Camilo y el Che terminaron como le gusta a Fidel Fusilado pues ya no los necesitaban... Los quita del m… https://t.co/TIM8QD09g7',\n",
       " 'La ex-reina de belleza @Thaizzola le encanta la pieza que luce de #AlfonsoSequera. Ella dice que se ha vuelto todo… https://t.co/gWv2Q81xQV',\n",
       " 'Mis mascotas día a dia',\n",
       " 'Estan vivos?🤔',\n",
       " '@xnniec Totalmente de acuerdo contigo https://t.co/WnTpDY6WI8',\n",
       " '@ashley5mac delicious. I love you',\n",
       " 'Un evento más al que asisto haciendo marketing digital. \\n\\nEs genial aprender, aprender y aprender.\\n\\nY si, llevo dos… https://t.co/fvn26rwkiD',\n",
       " '@BluRadioCo @ClaudiaLopez Porque fue destituida de la alcaldia penalosa?',\n",
       " '@yuyeimy_lore Jajajajajajajaja más linda ❤️',\n",
       " 'Jajajajajajaja',\n",
       " '@g_u_a_d_i_t_a @Julieta_Ic Ojalá lo aplique porq el feminismo piensa que los demás somos tontos que creen sus estup… https://t.co/FVuh5SUv9V',\n",
       " '#EjercitoControleLaMingaSioNo https://t.co/kCAcynfNk2',\n",
       " 'Cumpliendo la tarea deportiva y representativa con upb_medellin @upbcolombia Se cosechan los triunfos después de un… https://t.co/we6jqKIRee',\n",
       " '@jose51980858 @joicehasselmann pera...\\nfavor pegar a senha\\npois a fila é grande... \\ne parece não andar, meu número… https://t.co/o0fpwWDD1h',\n",
       " 'X mayor y al detal en Bucaramanga Ciudad Bonita https://t.co/vrmbdNVHvR',\n",
       " 'Si la poesía se encarna solo en palabras es un divertimento. Si se encarna en la vida es un revelación.',\n",
       " 'Campaña sensibolizacion contra minas antipersonal https://t.co/9clSP8MABG',\n",
       " 'No podemos mentirnos pensando que nuestro país le ofrece oportunidades a todos, por eso nunca hay que ser menos pre… https://t.co/tGY8RjUtGi',\n",
       " 'Nunca pierdan el tiempo, siempre algo mejor les espera !',\n",
       " '@BBMAs @Jason_Aldean @kanebrown @lukecombs @DanAndShay @carrieunderwood Pre-save my Ep #OnMyWay on #Spotify… https://t.co/19bTonALLn',\n",
       " '#EjercitoControleLaMingaSioNo https://t.co/vinAYg5qWW',\n",
       " 'Miwntras sea grilla, nunca ingrilla #FaceApp https://t.co/q1WYGGZ0cc',\n",
       " '@donalhejor @rinconvinotinto Es que el tema no son los goles, goles puede hacer cualquiera, hasta el tronco de Quiñ… https://t.co/MXo8KvEHOi',\n",
       " '@sandherj @CaracolRadio Fariano de Mierda, salí pal Monte que te van a dar ba',\n",
       " 'La quierooooo J♥️',\n",
       " 'ASI es!',\n",
       " '@OnlyAllSites delicious. I love you',\n",
       " '🙏🏾🙏🏾🙏🏾 en Magangué https://t.co/Bcz00gI4QU',\n",
       " '#EjercitoControleLaMingaSioNo https://t.co/o8wrLPj3DU',\n",
       " '@macklemore @NBCSongland @nbc Pre-save my Ep #OnMyWay on #Spotify #spotifyindia #spotifyplaylist #NewMusicFriday av… https://t.co/38GggezfmL',\n",
       " 'Ayer miércoles 3 de abril iniciamos la construcción de los sistemas de abastecimiento de agua potable en San José d… https://t.co/vtWrEfMPj1',\n",
       " 'Esta es la agenda de actividades del mes de Abril en #clubdavid\\nLes esperamos, ven con toda la familia o amigos.\\n•… https://t.co/fYqvPyrKW0',\n",
       " 'X mayor y al detal en Bucaramanga Ciudad Bonita https://t.co/OoVyfycr28',\n",
       " 'Sandalia para tu outfit innovando en nuestro calzado son hecho mano 😍\\nDisponible por pedido talla 35 al 40 👣\\nMateri… https://t.co/nbr2BhUBEv',\n",
       " 'Aparentemente no te quieren conmigo si tú supieras que yo también tengo lo mío 😏😎',\n",
       " '@ddelbalon @SiempreFutbolAM LLegó el día especial para el OC sacar su casta,seguir creciendo futbolísticamente,elev… https://t.co/K9K0xTkPPi',\n",
       " '@KickOffWIN  por muchos puntos que haga pintó no queda campeón #LiderAzul',\n",
       " '@yermenth_27 Jajajajajajaja nada de froot loops de Kelloggs',\n",
       " '@nickyromero @ultra Pre-save my Ep #OnMyWay on #Spotify #spotifyindia #spotifyplaylist #NewMusicFriday available on… https://t.co/MwNaP5u3Wr',\n",
       " '@DianaBarreraMu1 https://t.co/e4jJavo8kB',\n",
       " 'Barranquilla y el Atlántico celebran el Día Global de la Industria de Reuniones #GMID19, resaltando los grandes ava… https://t.co/9EyRagmAX4',\n",
       " '@andymtzurita @Soymarioruiz Pre-save my Ep #OnMyWay on #Spotify #spotifyindia #spotifyplaylist #NewMusicFriday avai… https://t.co/Pbu5PdY0px',\n",
       " '@nacp77 Toda una reina 💃👌',\n",
       " '🥰😍🥰😍🥰',\n",
       " 'Dios gracias por hacerme sonreír!!!!!!  💛🙌 El es la fuerza más infinita 🙏',\n",
       " '@cgomezavila @Justicialpueblo @MariaCorinaYA Lo siento, pero yo la entiendo: sin armas, porque no las tienen, no pu… https://t.co/ZytSZ3GFPh',\n",
       " 'Es muy bonito ver el amor que tienen por este club quienes han pasado, a Millonarios es imposible no quererlo.',\n",
       " '@skam28 ¡Igualmente, feliz jueves!',\n",
       " 'Voy a arder en el infierno. Me lo han repetido más de cuatro veces. Esas son señales.',\n",
       " '@ErikaOcampo10 Pero cuando me alivie 👯',\n",
       " '@fernanda_1286 @ALVAROMOLINAP @NoticiasRCN @JoseMAcevedo Que bien Fernanda es así 👏👏👏👏',\n",
       " 'Bella Cartagena ❤ https://t.co/A8wUCEVdkD',\n",
       " '🙏🏾🙏🏾🙏🏾 en Magangué https://t.co/tPTv5wvuN2',\n",
       " '@FlavioXSid Engraçado, isso a rgt não mostra !',\n",
       " '@BigBreastPics @BigBoobBettys delicious bbs. I want milk',\n",
       " '@ElNacionalWeb Dios lo escuche',\n",
       " 'Mexico ya se está volviendo mierda.',\n",
       " 'D I V I N A jajajaja',\n",
       " '@Michael_RYS Basuras cínicos falsos tramposos mentirosos https://t.co/J40AvR5Iiy',\n",
       " 'Si... Muy frito el que vote por ese petardo. Peñalosadas 2 y peor',\n",
       " '@lcvelez La verdad duele y parece que a ud señor @lcvelez le doliera que se hable de la verdadera realidad que ni u… https://t.co/b8DsoTp6eo',\n",
       " '\"De nuestros miedos\\n nacen nuestros corajes,\\n y en nuestras dudas\\n viven nuestras certezas.\\n Los sueños anuncian\\n o… https://t.co/NP0N3EIY7R',\n",
       " '@ElNacionalWeb UMMMMMMMMMMMMMMMM ESO SUENA FEO, SERÀ CULILLO, MIEDO, TEMOR O QUÈ HABRÀ DETRAS DE ESTA DESICIÒN.UMMMM']"
      ]
     },
     "execution_count": 10,
     "metadata": {},
     "output_type": "execute_result"
    }
   ],
   "source": [
    "finite_stream_listener.tweets"
   ]
  },
  {
   "cell_type": "code",
   "execution_count": 15,
   "metadata": {},
   "outputs": [
    {
     "data": {
      "text/plain": [
       "100"
      ]
     },
     "execution_count": 15,
     "metadata": {},
     "output_type": "execute_result"
    }
   ],
   "source": [
    "len(finite_stream_listener.tweets)"
   ]
  },
  {
   "cell_type": "code",
   "execution_count": 16,
   "metadata": {},
   "outputs": [],
   "source": [
    "cleaned_tweets = list(finite_stream_listener.tweets)\n",
    "\n",
    "for cleaning_function in [make_lowercase, remove_diacritics, remove_non_alpha_characters]:\n",
    "    cleaned_tweets = [cleaning_function(tweet) for tweet in cleaned_tweets]"
   ]
  },
  {
   "cell_type": "code",
   "execution_count": 17,
   "metadata": {},
   "outputs": [
    {
     "data": {
      "text/plain": [
       "['cuando me encuentro en una reunion donde muchos no me conocen y empiezan a hablar de leyes y hablan locuras yo calladita',\n",
       " 'alguien quiere mango  httpstcoujmvpccw',\n",
       " 'dannyaddam amaliaandrade nelagonzalez mira estas dos entrevistas httpstcoljbvawd httpstcokqgiwki',\n",
       " 'why dont we  austin mahone',\n",
       " 'castrocov jajajajajajajajajajaja',\n",
       " 'bienvenidos httpstcoikhgkdlst',\n",
       " 'alejalopezm fajardo hermano le hablan jajajaja',\n",
       " 'jorgesa caracolradio siiiii',\n",
       " 'buenosdias  buenjueves tbt  iiesta noche nos fuimos con otro  himnomundial del reggaeton cosabuena de httpstcoluymyux',\n",
       " 'theperezhilton presave my ep onmyway on spotify spotifyindia spotifyplaylist newmusicfriday available on apr httpstcovltyailld',\n",
       " 'parabens pro amor da minha vida sempre juntos na derrota ou gloria scinternacional',\n",
       " '',\n",
       " 'arianagrande ',\n",
       " 'soy virgen y que',\n",
       " 'alberttrejosg httpstcoqemnqiveh',\n",
       " 'erikaocampo pues yo ',\n",
       " 'bryco jajajajaja te amo llega ya',\n",
       " '',\n",
       " 'sleepymemory julxval todo un capitulo con esta trama seria increible siempre he querido saber de sus vidas pas httpstcovlnjipqd',\n",
       " 'kamilapertuz educacion pero desafortunadamente eso no es prioridad para el estado y los privados los mueve el interes economico ',\n",
       " 'marjuhernandez cuando es a ella si y le aprieto las nalgas',\n",
       " 'con la bendicion de dios',\n",
       " 'xadrez matupaense tem reconhecimento nacional e recebe homenagens em sao paulohttpstcoycaomxvm',\n",
       " 'buenos dias ',\n",
       " 'petrogustavo jajajaja',\n",
       " 'camilacuestap jajaja tengo que buscar esa palabra',\n",
       " 'topproveedorestic inicia con su show live play view y en esta ocasion le preguntamos a manuel campos gerente come httpstcoapuvoyzxh',\n",
       " 'panama panamaoestec eldenciud denunciapmoeste protegeryservir treporta tvnnoticias metrolibrepty httpstcofmlqdry',\n",
       " 'johhnorlandos johnnyorlando presave my ep onmyway on spotify spotifyindia spotifyplaylist newmusicfriday av httpstcoixsiqyg',\n",
       " 'sandherj caracolradio a su mama siiii',\n",
       " 'valeriasantosb ivanduque duque firme no puede llevar sobre sus hombros semejante abuso con los colombianos colo httpstcoqalccxxp',\n",
       " 'oscarandres   la verdadera extension de el uberrimo la hacienda de alvaro uribe httpstcomnfspfvi',\n",
       " 'ejercitocontrolelamingasiono httpstcotfuugswvd httpstcoltejsrbie httpstcoowrlpjdu httpstcomkvfzesb',\n",
       " 'mi obsesion por esta cancion no es normal httpstcodaiqrwqrg',\n",
       " 'dedicacion solemne del profesor jorgelpintoa a don luis ernesto su senor padre mas el significado de recuperar httpstcorffsbfgw',\n",
       " 'plinero amendtb',\n",
       " 'fichajegoleador mancitygoleador mancity seria espectacular que lo ganen todo ',\n",
       " 'diazcanelb camilo y el che terminaron como le gusta a fidel fusilado pues ya no los necesitaban los quita del m httpstcotimqdg',\n",
       " 'la exreina de belleza thaizzola le encanta la pieza que luce de alfonsosequera ella dice que se ha vuelto todo httpstcogwvqxqv',\n",
       " 'mis mascotas dia a dia',\n",
       " 'estan vivos',\n",
       " 'xnniec totalmente de acuerdo contigo httpstcowntpdywi',\n",
       " 'ashleymac delicious i love you',\n",
       " 'un evento mas al que asisto haciendo marketing digital es genial aprender aprender y aprendery si llevo dos httpstcofvnrwkid',\n",
       " 'bluradioco claudialopez porque fue destituida de la alcaldia penalosa',\n",
       " 'yuyeimylore jajajajajajajaja mas linda ',\n",
       " 'jajajajajajaja',\n",
       " 'guadita julietaic ojala lo aplique porq el feminismo piensa que los demas somos tontos que creen sus estup httpstcofvuhsuvv',\n",
       " 'ejercitocontrolelamingasiono httpstcokcacynfnk',\n",
       " 'cumpliendo la tarea deportiva y representativa con upbmedellin upbcolombia se cosechan los triunfos despues de un httpstcowejqkiree',\n",
       " 'jose joicehasselmann perafavor pegar a senhapois a fila e grande e parece nao andar meu numero httpstcoofpwwddh',\n",
       " 'x mayor y al detal en bucaramanga ciudad bonita httpstcovrmbdnvhvr',\n",
       " 'si la poesia se encarna solo en palabras es un divertimento si se encarna en la vida es un revelacion',\n",
       " 'campana sensibolizacion contra minas antipersonal httpstcoclspmabg',\n",
       " 'no podemos mentirnos pensando que nuestro pais le ofrece oportunidades a todos por eso nunca hay que ser menos pre httpstcotgyrjutgi',\n",
       " 'nunca pierdan el tiempo siempre algo mejor les espera ',\n",
       " 'bbmas jasonaldean kanebrown lukecombs danandshay carrieunderwood presave my ep onmyway on spotify httpstcobtonalln',\n",
       " 'ejercitocontrolelamingasiono httpstcovinaygqww',\n",
       " 'miwntras sea grilla nunca ingrilla faceapp httpstcoqwyggzcc',\n",
       " 'donalhejor rinconvinotinto es que el tema no son los goles goles puede hacer cualquiera hasta el tronco de quin httpstcomxokvehoi',\n",
       " 'sandherj caracolradio fariano de mierda sali pal monte que te van a dar ba',\n",
       " 'la quierooooo j',\n",
       " 'asi es',\n",
       " 'onlyallsites delicious i love you',\n",
       " ' en magangue httpstcobczgiqu',\n",
       " 'ejercitocontrolelamingasiono httpstcoowrlpjdu',\n",
       " 'macklemore nbcsongland nbc presave my ep onmyway on spotify spotifyindia spotifyplaylist newmusicfriday av httpstcogggezfml',\n",
       " 'ayer miercoles  de abril iniciamos la construccion de los sistemas de abastecimiento de agua potable en san jose d httpstcovtwrefmpj',\n",
       " 'esta es la agenda de actividades del mes de abril en clubdavidles esperamos ven con toda la familia o amigos httpstcofyqvpyrkw',\n",
       " 'x mayor y al detal en bucaramanga ciudad bonita httpstcooovyfycr',\n",
       " 'sandalia para tu outfit innovando en nuestro calzado son hecho mano disponible por pedido talla  al  materi httpstconbrbhubev',\n",
       " 'aparentemente no te quieren conmigo si tu supieras que yo tambien tengo lo mio ',\n",
       " 'ddelbalon siemprefutbolam llego el dia especial para el oc sacar su castaseguir creciendo futbolisticamenteelev httpstcokkxtkppi',\n",
       " 'kickoffwin  por muchos puntos que haga pinto no queda campeon liderazul',\n",
       " 'yermenth jajajajajajaja nada de froot loops de kelloggs',\n",
       " 'nickyromero ultra presave my ep onmyway on spotify spotifyindia spotifyplaylist newmusicfriday available on httpstcomwnapuwr',\n",
       " 'dianabarreramu httpstcoejjavokb',\n",
       " 'barranquilla y el atlantico celebran el dia global de la industria de reuniones gmid resaltando los grandes ava httpstcoeyragmax',\n",
       " 'andymtzurita soymarioruiz presave my ep onmyway on spotify spotifyindia spotifyplaylist newmusicfriday avai httpstcopbupdypx',\n",
       " 'nacp toda una reina ',\n",
       " '',\n",
       " 'dios gracias por hacerme sonreir   el es la fuerza mas infinita ',\n",
       " 'cgomezavila justicialpueblo mariacorinaya lo siento pero yo la entiendo sin armas porque no las tienen no pu httpstcozytszgfph',\n",
       " 'es muy bonito ver el amor que tienen por este club quienes han pasado a millonarios es imposible no quererlo',\n",
       " 'skam igualmente feliz jueves',\n",
       " 'voy a arder en el infierno me lo han repetido mas de cuatro veces esas son senales',\n",
       " 'erikaocampo pero cuando me alivie ',\n",
       " 'fernanda alvaromolinap noticiasrcn josemacevedo que bien fernanda es asi ',\n",
       " 'bella cartagena  httpstcoawucevdkd',\n",
       " ' en magangue httpstcotptvwvun',\n",
       " 'flavioxsid engracado isso a rgt nao mostra ',\n",
       " 'bigbreastpics bigboobbettys delicious bbs i want milk',\n",
       " 'elnacionalweb dios lo escuche',\n",
       " 'mexico ya se esta volviendo mierda',\n",
       " 'd i v i n a jajajaja',\n",
       " 'michaelrys basuras cinicos falsos tramposos mentirosos httpstcojavriiy',\n",
       " 'si muy frito el que vote por ese petardo penalosadas  y peor',\n",
       " 'lcvelez la verdad duele y parece que a ud senor lcvelez le doliera que se hable de la verdadera realidad que ni u httpstcobdsotpeo',\n",
       " 'de nuestros miedos nacen nuestros corajes y en nuestras dudas viven nuestras certezas los suenos anuncian o httpstconpneiyr',\n",
       " 'elnacionalweb ummmmmmmmmmmmmmmm eso suena feo sera culillo miedo temor o que habra detras de esta desicionummmm']"
      ]
     },
     "execution_count": 17,
     "metadata": {},
     "output_type": "execute_result"
    }
   ],
   "source": [
    "cleaned_tweets"
   ]
  },
  {
   "cell_type": "markdown",
   "metadata": {},
   "source": [
    "# Dormir con tus Datos"
   ]
  },
  {
   "cell_type": "code",
   "execution_count": 18,
   "metadata": {},
   "outputs": [],
   "source": [
    "%matplotlib inline\n",
    "\n",
    "from pprint import pprint\n",
    "import pandas as pd"
   ]
  },
  {
   "cell_type": "code",
   "execution_count": 19,
   "metadata": {},
   "outputs": [],
   "source": [
    "KEYWORD='yo'"
   ]
  },
  {
   "cell_type": "markdown",
   "metadata": {},
   "source": [
    "### Primeros 10 Tweets"
   ]
  },
  {
   "cell_type": "code",
   "execution_count": 20,
   "metadata": {},
   "outputs": [
    {
     "name": "stdout",
     "output_type": "stream",
     "text": [
      "['cuando me encuentro en una reunion donde muchos no me conocen y empiezan a '\n",
      " 'hablar de leyes y hablan locuras yo calladita',\n",
      " 'alguien quiere mango  httpstcoujmvpccw',\n",
      " 'dannyaddam amaliaandrade nelagonzalez mira estas dos entrevistas '\n",
      " 'httpstcoljbvawd httpstcokqgiwki',\n",
      " 'why dont we  austin mahone',\n",
      " 'castrocov jajajajajajajajajajaja',\n",
      " 'bienvenidos httpstcoikhgkdlst',\n",
      " 'alejalopezm fajardo hermano le hablan jajajaja',\n",
      " 'jorgesa caracolradio siiiii',\n",
      " 'buenosdias  buenjueves tbt  iiesta noche nos fuimos con otro  himnomundial '\n",
      " 'del reggaeton cosabuena de httpstcoluymyux',\n",
      " 'theperezhilton presave my ep onmyway on spotify spotifyindia spotifyplaylist '\n",
      " 'newmusicfriday available on apr httpstcovltyailld']\n"
     ]
    }
   ],
   "source": [
    "pprint(cleaned_tweets[:10])"
   ]
  },
  {
   "cell_type": "markdown",
   "metadata": {},
   "source": [
    "### Cuantas veces aparece la palabra clave?"
   ]
  },
  {
   "cell_type": "code",
   "execution_count": 35,
   "metadata": {},
   "outputs": [
    {
     "name": "stdout",
     "output_type": "stream",
     "text": [
      "Nuestra palabra clave aparece: 9 veces\n"
     ]
    }
   ],
   "source": [
    "number_of_occurences=sum(KEYWORD in tweet for tweet in cleaned_tweets)\n",
    "print('Nuestra palabra clave aparece: {} veces'.format(number_of_occurences))"
   ]
  },
  {
   "cell_type": "code",
   "execution_count": 36,
   "metadata": {},
   "outputs": [
    {
     "name": "stdout",
     "output_type": "stream",
     "text": [
      "Nuestra palabra clave aparece: 9.0 %\n"
     ]
    }
   ],
   "source": [
    "print('Nuestra palabra clave aparece: {} %'.format(100 * number_of_occurences/NUMBER_OF_TWEETS))"
   ]
  },
  {
   "cell_type": "markdown",
   "metadata": {},
   "source": [
    "### Como son los tweets que la contienen?"
   ]
  },
  {
   "cell_type": "code",
   "execution_count": 28,
   "metadata": {},
   "outputs": [
    {
     "name": "stdout",
     "output_type": "stream",
     "text": [
      "['cuando me encuentro en una reunion donde muchos no me conocen y empiezan a '\n",
      " 'hablar de leyes y hablan locuras yo calladita',\n",
      " 'erikaocampo pues yo ',\n",
      " 'johhnorlandos johnnyorlando presave my ep onmyway on spotify spotifyindia '\n",
      " 'spotifyplaylist newmusicfriday av httpstcoixsiqyg',\n",
      " 'ashleymac delicious i love you',\n",
      " 'x mayor y al detal en bucaramanga ciudad bonita httpstcovrmbdnvhvr',\n",
      " 'onlyallsites delicious i love you',\n",
      " 'x mayor y al detal en bucaramanga ciudad bonita httpstcooovyfycr',\n",
      " 'aparentemente no te quieren conmigo si tu supieras que yo tambien tengo lo '\n",
      " 'mio ',\n",
      " 'cgomezavila justicialpueblo mariacorinaya lo siento pero yo la entiendo sin '\n",
      " 'armas porque no las tienen no pu httpstcozytszgfph']\n"
     ]
    }
   ],
   "source": [
    "pprint([tweet for tweet in cleaned_tweets if KEYWORD in tweet])"
   ]
  },
  {
   "cell_type": "markdown",
   "metadata": {},
   "source": [
    "### Cual es la distancia promedia entre ocurrencias consecutivas?"
   ]
  },
  {
   "cell_type": "code",
   "execution_count": 29,
   "metadata": {},
   "outputs": [],
   "source": [
    "indices_of_tweets_containing_keyword = [index for index, tweet in enumerate(cleaned_tweets) if KEYWORD in tweet]"
   ]
  },
  {
   "cell_type": "code",
   "execution_count": 31,
   "metadata": {},
   "outputs": [
    {
     "data": {
      "text/plain": [
       "[0, 15, 28, 42, 51, 63, 69, 71, 82]"
      ]
     },
     "execution_count": 31,
     "metadata": {},
     "output_type": "execute_result"
    }
   ],
   "source": [
    "indices_of_tweets_containing_keyword"
   ]
  },
  {
   "cell_type": "code",
   "execution_count": 30,
   "metadata": {},
   "outputs": [],
   "source": [
    "distances_between_indices_of_tweets_containing_keyword = [\n",
    "    second_index - first_index for first_index, second_index in \\\n",
    "    zip(indices_of_tweets_containing_keyword[:-1], indices_of_tweets_containing_keyword[1:])\n",
    "]"
   ]
  },
  {
   "cell_type": "code",
   "execution_count": 32,
   "metadata": {},
   "outputs": [
    {
     "data": {
      "text/plain": [
       "<matplotlib.axes._subplots.AxesSubplot at 0x1befc153a58>"
      ]
     },
     "execution_count": 32,
     "metadata": {},
     "output_type": "execute_result"
    },
    {
     "data": {
      "image/png": "[encoded data removed]",
      "text/plain": [
       "<Figure size 432x288 with 1 Axes>"
      ]
     },
     "metadata": {
      "needs_background": "light"
     },
     "output_type": "display_data"
    }
   ],
   "source": [
    "pd.Series(distances_between_indices_of_tweets_containing_keyword).hist()"
   ]
  },
  {
   "cell_type": "markdown",
   "metadata": {},
   "source": [
    "### Construir un modelo"
   ]
  },
  {
   "cell_type": "code",
   "execution_count": 33,
   "metadata": {},
   "outputs": [],
   "source": [
    "import matplotlib.pyplot as plt\n",
    "import numpy as np\n",
    "from scipy.stats import beta as beta_distribution"
   ]
  },
  {
   "cell_type": "markdown",
   "metadata": {},
   "source": [
    "#### Definir los parametros de un Beta Distribution"
   ]
  },
  {
   "cell_type": "code",
   "execution_count": 51,
   "metadata": {},
   "outputs": [],
   "source": [
    "alpha = 1 + number_of_occurences\n",
    "beta = 1 + (NUMBER_OF_TWEETS - number_of_occurences)\n",
    "\n",
    "x_values = np.linspace(0, 1, 1002)[1:-1]\n",
    "pdf_y_values = beta_distribution(alpha, beta).pdf(x_values)\n",
    "cdf_y_values = np.cumsum(pdf_y_values) / np.sum(pdf_y_values)"
   ]
  },
  {
   "cell_type": "code",
   "execution_count": 40,
   "metadata": {},
   "outputs": [
    {
     "data": {
      "image/png": "[encoded data removed]",
      "text/plain": [
       "<Figure size 1296x432 with 2 Axes>"
      ]
     },
     "metadata": {
      "needs_background": "light"
     },
     "output_type": "display_data"
    }
   ],
   "source": [
    "plt.figure(figsize=(18, 6))\n",
    "plt.subplot(121)\n",
    "plt.plot(x_values, pdf_y_values, label=(r'$\\alpha=%.1f,\\ \\beta=%.1f$' % (alpha, beta)))\n",
    "\n",
    "plt.xlim(0, 1)\n",
    "plt.xlabel('Probability of tweet containing keyword')\n",
    "plt.ylabel('Probability density')\n",
    "plt.title('Beta Distribution PDF')\n",
    "plt.legend(loc=1)\n",
    "plt.subplot(122)\n",
    "plt.plot(x_values, cdf_y_values)\n",
    "plt.xlim(0, 1)\n",
    "plt.ylim(0, 1.005)\n",
    "plt.yticks(np.linspace(0, 1, 21))\n",
    "plt.xlabel('Probability of tweet containing keyword')\n",
    "plt.ylabel('Cumulative probability')\n",
    "plt.title('Beta Distribution CDF')\n",
    "plt.show()"
   ]
  },
  {
   "cell_type": "markdown",
   "metadata": {},
   "source": [
    "#### Comunicar Resultados"
   ]
  },
  {
   "cell_type": "code",
   "execution_count": 52,
   "metadata": {},
   "outputs": [],
   "source": [
    "fifth_percentile = max(\n",
    "    [x_value for x_value, y_value in zip(x_values, cdf_y_values) if y_value <= .05]\n",
    ")\n",
    "ninety_fifth_percentile = max(\n",
    "    [x_value for x_value, y_value in zip(x_values, cdf_y_values) if y_value <= .95]\n",
    ")"
   ]
  },
  {
   "cell_type": "code",
   "execution_count": 54,
   "metadata": {},
   "outputs": [
    {
     "name": "stdout",
     "output_type": "stream",
     "text": [
      "Con 90% de certeza digamos que la verdadera probabilidad se encuentra entre: 0.0539 y 0.1489\n"
     ]
    }
   ],
   "source": [
    "print('Con 90% de certeza digamos que la verdadera probabilidad se encuentra entre: {} y {}'.format(\n",
    "        round(fifth_percentile, 4), round(ninety_fifth_percentile, 4)))"
   ]
  },
  {
   "cell_type": "markdown",
   "metadata": {},
   "source": [
    "### La probabilidad que la verdadera probabilidad (de que un tweet contiene nuesta palabra clave) sea más grande de .1"
   ]
  },
  {
   "cell_type": "code",
   "execution_count": 58,
   "metadata": {},
   "outputs": [],
   "source": [
    "def compute_total_probability_that_probability_less_than_p(p):\n",
    "    return max(cumulative_prob for cumulative_prob, x_value in zip(cdf_y_values, x_values) if x_value < p)"
   ]
  },
  {
   "cell_type": "code",
   "execution_count": 61,
   "metadata": {},
   "outputs": [
    {
     "name": "stdout",
     "output_type": "stream",
     "text": [
      "La probabilidad que la verdadera probabilidad es > .1 es: 0.43299051345456574\n"
     ]
    }
   ],
   "source": [
    "print('La probabilidad que la verdadera probabilidad es > .1 es: {}'.format(1 - compute_total_probability_that_probability_less_than_p(.1))\n",
    "      )"
   ]
  }
 ],
 "metadata": {
  "kernelspec": {
   "display_name": "Python 3",
   "language": "python",
   "name": "python3"
  },
  "language_info": {
   "codemirror_mode": {
    "name": "ipython",
    "version": 3
   },
   "file_extension": ".py",
   "mimetype": "text/x-python",
   "name": "python",
   "nbconvert_exporter": "python",
   "pygments_lexer": "ipython3",
   "version": "3.7.2"
  }
 },
 "nbformat": 4,
 "nbformat_minor": 2
}
