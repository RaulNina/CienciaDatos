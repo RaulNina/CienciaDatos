{
 "cells": [
  {
   "cell_type": "code",
   "execution_count": null,
   "metadata": {},
   "outputs": [],
   "source": [
    "from tweepy import StreamListener\n",
    "\n",
    "class FiniteStreamListener(StreamListener):\n",
    "    \n",
    "    def __init__(self,number_of_tweets):\n",
    "        self.number_of_tweets = number_of_tweets\n",
    "        self.tweets = []\n",
    "        super().__init__()\n",
    "        \n",
    "    def on_status(self,status):\n",
    "        if len(self.tweets) < self.number_of_tweets:\n",
    "            self.tweets.append(status.text)\n",
    "        else:\n",
    "            return False"
   ]
  }
 ],
 "metadata": {
  "kernelspec": {
   "display_name": "Python 3",
   "language": "python",
   "name": "python3"
  },
  "language_info": {
   "codemirror_mode": {
    "name": "ipython",
    "version": 3
   },
   "file_extension": ".py",
   "mimetype": "text/x-python",
   "name": "python",
   "nbconvert_exporter": "python",
   "pygments_lexer": "ipython3",
   "version": "3.7.2"
  }
 },
 "nbformat": 4,
 "nbformat_minor": 2
}
