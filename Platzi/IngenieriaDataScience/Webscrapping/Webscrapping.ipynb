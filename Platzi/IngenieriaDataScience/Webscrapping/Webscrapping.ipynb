{
 "cells": [
  {
   "cell_type": "code",
   "execution_count": 40,
   "metadata": {},
   "outputs": [],
   "source": [
    "import requests\n",
    "response = requests.get('https://platzi.com/cursos/')"
   ]
  },
  {
   "cell_type": "code",
   "execution_count": 72,
   "metadata": {},
   "outputs": [],
   "source": [
    "response?"
   ]
  },
  {
   "cell_type": "code",
   "execution_count": 73,
   "metadata": {},
   "outputs": [],
   "source": [
    "response??"
   ]
  },
  {
   "cell_type": "code",
   "execution_count": 74,
   "metadata": {},
   "outputs": [
    {
     "name": "stdout",
     "output_type": "stream",
     "text": [
      "['__attrs__', '__bool__', '__class__', '__delattr__', '__dict__', '__dir__', '__doc__', '__enter__', '__eq__', '__exit__', '__format__', '__ge__', '__getattribute__', '__getstate__', '__gt__', '__hash__', '__init__', '__init_subclass__', '__iter__', '__le__', '__lt__', '__module__', '__ne__', '__new__', '__nonzero__', '__reduce__', '__reduce_ex__', '__repr__', '__setattr__', '__setstate__', '__sizeof__', '__str__', '__subclasshook__', '__weakref__', '_content', '_content_consumed', '_next', 'apparent_encoding', 'close', 'connection', 'content', 'cookies', 'elapsed', 'encoding', 'headers', 'history', 'is_permanent_redirect', 'is_redirect', 'iter_content', 'iter_lines', 'json', 'links', 'next', 'ok', 'raise_for_status', 'raw', 'reason', 'request', 'status_code', 'text', 'url']\n"
     ]
    }
   ],
   "source": [
    "print(dir(response))"
   ]
  },
  {
   "cell_type": "code",
   "execution_count": 75,
   "metadata": {},
   "outputs": [
    {
     "name": "stdout",
     "output_type": "stream",
     "text": [
      "{'Date': 'Tue, 09 Apr 2019 19:15:48 GMT', 'Content-Type': 'text/html; charset=utf-8', 'Transfer-Encoding': 'chunked', 'Connection': 'keep-alive', 'Set-Cookie': '__cfduid=df51ca8054250bd26e6a4f134d9b0fc371554837347; expires=Wed, 08-Apr-20 19:15:47 GMT; path=/; domain=.platzi.com; HttpOnly, entry_path=\"/cursos/\"; expires=Tue, 09 Apr 2019 20:05:48 GMT; Max-Age=3000; Path=/, s=v7xety5rqvb7p6iet4exi7403dqgs1y7; Domain=.platzi.com; expires=Tue, 23 Apr 2019 19:15:48 GMT; HttpOnly; Max-Age=1209600; Path=/; SameSite=Lax; Secure', 'Content-Language': 'es', 'strict-transport-security': 'max-age=86400; includeSubDomains', 'Vary': 'Accept-Encoding, Accept-Language, Cookie', 'x-content-type-options': 'nosniff', 'X-Frame-Options': 'SAMEORIGIN', 'x-xss-protection': '1; mode=block', 'Expect-CT': 'max-age=604800, report-uri=\"https://report-uri.cloudflare.com/cdn-cgi/beacon/expect-ct\"', 'Server': 'cloudflare', 'CF-RAY': '4c4ecfcdfdc7baf2-SCL', 'Content-Encoding': 'gzip'}\n"
     ]
    }
   ],
   "source": [
    "print(response.headers)"
   ]
  },
  {
   "cell_type": "code",
   "execution_count": 14,
   "metadata": {},
   "outputs": [
    {
     "name": "stdout",
     "output_type": "stream",
     "text": [
      "<!DOCTYPE HTML>\n",
      "<html lang=\"en-US\">\n",
      "<head>\n",
      "  <meta charset=\"UTF-8\" />\n",
      "  <meta http-equiv=\"Content-Type\" content=\"text/html; charset=UTF-8\" />\n",
      "  <meta http-equiv=\"X-UA-Compatible\" content=\"IE=Edge,chrome=1\" />\n",
      "  <meta name=\"robots\" content=\"noindex, nofollow\" />\n",
      "  <meta name=\"viewport\" content=\"width=device-width, initial-scale=1, maximum-scale=1\" />\n",
      "  <title>Just a moment...</title>\n",
      "  <style type=\"text/css\">\n",
      "    html, body {width: 100%; height: 100%; margin: 0; padding: 0;}\n",
      "    body {background-color: #ffffff; font-family: Helvetica, Arial, sans-serif; font-size: 100%;}\n",
      "    h1 {font-size: 1.5em; color: #404040; text-align: center;}\n",
      "    p {font-size: 1em; color: #404040; text-align: center; margin: 10px 0 0 0;}\n",
      "    #spinner {margin: 0 auto 30px auto; display: block;}\n",
      "    .attribution {margin-top: 20px;}\n",
      "    @-webkit-keyframes bubbles { 33%: { -webkit-transform: translateY(10px); transform: translateY(10px); } 66% { -webkit-transform: translateY(-10px); transform: translateY(-10px); } 100% { -webkit-transform: translateY(0); transform: translateY(0); } }\n",
      "    @keyframes bubbles { 33%: { -webkit-transform: translateY(10px); transform: translateY(10px); } 66% { -webkit-transform: translateY(-10px); transform: translateY(-10px); } 100% { -webkit-transform: translateY(0); transform: translateY(0); } }\n",
      "    .bubbles { background-color: #404040; width:15px; height: 15px; margin:2px; border-radius:100%; -webkit-animation:bubbles 0.6s 0.07s infinite ease-in-out; animation:bubbles 0.6s 0.07s infinite ease-in-out; -webkit-animation-fill-mode:both; animation-fill-mode:both; display:inline-block; }\n",
      "  </style>\n",
      "\n",
      "    <script type=\"text/javascript\">\n",
      "  //<![CDATA[\n",
      "  (function(){\n",
      "    var a = function() {try{return !!window.addEventListener} catch(e) {return !1} },\n",
      "    b = function(b, c) {a() ? document.addEventListener(\"DOMContentLoaded\", b, c) : document.attachEvent(\"onreadystatechange\", b)};\n",
      "    b(function(){\n",
      "      var a = document.getElementById('cf-content');a.style.display = 'block';\n",
      "      setTimeout(function(){\n",
      "        var s,t,o,p,b,r,e,a,k,i,n,g,f, KdjoWqq={\"lBZdhZdXoE\":+((!+[]+!![]+!![]+!![]+!![]+!![]+!![]+!![]+[])+(!+[]+!![]+!![])+(!+[]+!![]+!![]+!![]+!![]+!![]+!![]+!![])+(+[])+(!+[]+!![]+!![]+!![])+(+!![])+(!+[]+!![]+!![]+!![]+!![]+!![])+(!+[]+!![]+!![]+!![])+(!+[]+!![]+!![]+!![]+!![]+!![]+!![]))/+((!+[]+!![]+!![]+!![]+!![]+!![]+!![]+!![]+[])+(+!![])+(!+[]+!![]+!![]+!![])+(!+[]+!![]+!![]+!![]+!![])+(+!![])+(!+[]+!![]+!![]+!![]+!![]+!![])+(+[])+(+!![])+(!+[]+!![]+!![]))};\n",
      "        g = String.fromCharCode;\n",
      "        t = document.createElement('div');\n",
      "        t.innerHTML=\"<a href='/'>x</a>\";\n",
      "        t = t.firstChild.href;r = t.match(/https?:\\/\\//)[0];\n",
      "        t = t.substr(r.length); t = t.substr(0,t.length-1); \n",
      "        a = document.getElementById('jschl-answer');\n",
      "        f = document.getElementById('challenge-form');\n",
      "        ;KdjoWqq.lBZdhZdXoE-=+((!+[]+!![]+!![]+!![]+!![]+!![]+!![]+!![]+[])+(!+[]+!![]+!![]+!![]+!![])+(!+[]+!![]+!![]+!![]+!![]+!![]+!![]+!![])+(!+[]+!![]+!![]+!![]+!![])+(!+[]+!![]+!![]+!![]+!![]+!![]+!![]+!![]+!![])+(!+[]+!![]+!![]+!![]+!![]+!![]+!![]+!![]+!![])+(!+[]+!![]+!![]+!![]+!![])+(+[])+(!+[]+!![]+!![]))/+((!+[]+!![]+[])+(!+[]+!![]+!![]+!![]+!![]+!![]+!![])+(!+[]+!![]+!![]+!![]+!![]+!![]+!![])+(+!![])+(+!![])+(+!![])+(!+[]+!![]+!![])+(!+[]+!![]+!![]+!![]+!![]+!![]+!![]+!![])+(!+[]+!![]+!![]+!![]+!![]));KdjoWqq.lBZdhZdXoE*=+((!+[]+!![]+!![]+!![]+!![]+!![]+!![]+!![]+!![]+[])+(!+[]+!![])+(+[])+(!+[]+!![]+!![]+!![])+(+!![])+(!+[]+!![]+!![]+!![]+!![]+!![]+!![]+!![]+!![])+(!+[]+!![]+!![]+!![]+!![]+!![]+!![]+!![])+(!+[]+!![])+(!+[]+!![]+!![]))/+((!+[]+!![]+!![]+!![]+!![]+!![]+!![]+[])+(!+[]+!![]+!![])+(!+[]+!![]+!![]+!![]+!![]+!![]+!![]+!![])+(!+[]+!![]+!![]+!![]+!![]+!![]+!![])+(!+[]+!![])+(!+[]+!![]+!![]+!![]+!![]+!![]+!![]+!![])+(+!![])+(!+[]+!![]+!![])+(!+[]+!![]+!![]+!![]+!![]+!![]));KdjoWqq.lBZdhZdXoE*=+((!+[]+!![]+!![]+!![]+!![]+!![]+!![]+!![]+[])+(+!![])+(!+[]+!![]+!![]+!![]+!![]+!![]+!![])+(!+[]+!![]+!![]+!![]+!![])+(+[])+(!+[]+!![]+!![]+!![])+(!+[]+!![])+(!+[]+!![]+!![]+!![])+(!+[]+!![]+!![]))/+((!+[]+!![]+!![]+!![]+!![]+[])+(!+[]+!![]+!![]+!![])+(!+[]+!![]+!![]+!![]+!![]+!![])+(!+[]+!![]+!![]+!![]+!![]+!![]+!![]+!![]+!![])+(!+[]+!![]+!![]+!![])+(!+[]+!![]+!![])+(+!![])+(!+[]+!![])+(!+[]+!![]+!![]+!![]+!![]+!![]+!![]));KdjoWqq.lBZdhZdXoE*=+((!+[]+!![]+!![]+!![]+!![]+!![]+!![]+!![]+[])+(+!![])+(!+[]+!![]+!![]+!![]+!![]+!![]+!![])+(!+[]+!![]+!![]+!![]+!![])+(+[])+(!+[]+!![]+!![]+!![])+(!+[]+!![])+(!+[]+!![]+!![]+!![])+(!+[]+!![]+!![]))/+((!+[]+!![]+!![]+!![]+!![]+!![]+!![]+[])+(+!![])+(!+[]+!![]+!![]+!![]+!![]+!![])+(!+[]+!![]+!![]+!![]+!![]+!![]+!![])+(!+[]+!![]+!![]+!![])+(!+[]+!![]+!![]+!![]+!![]+!![]+!![]+!![]+!![])+(!+[]+!![]+!![]+!![]+!![]+!![]+!![]+!![])+(!+[]+!![]+!![]+!![]+!![]+!![]+!![]+!![]+!![])+(!+[]+!![]+!![]+!![]+!![]+!![]+!![]+!![]));KdjoWqq.lBZdhZdXoE+=+((!+[]+!![]+!![]+!![]+!![]+!![]+!![]+!![]+[])+(!+[]+!![]+!![])+(!+[]+!![]+!![]+!![]+!![]+!![]+!![]+!![])+(+[])+(!+[]+!![]+!![]+!![])+(+!![])+(!+[]+!![]+!![]+!![]+!![]+!![])+(!+[]+!![]+!![]+!![])+(!+[]+!![]+!![]+!![]+!![]+!![]+!![]))/+((+!![]+[])+(!+[]+!![]+!![]+!![]+!![]+!![]+!![]+!![]+!![])+(+!![])+(+!![])+(!+[]+!![]+!![]+!![]+!![]+!![]+!![]+!![]+!![])+(!+[]+!![]+!![])+(!+[]+!![]+!![]+!![]+!![]+!![]+!![])+(!+[]+!![]+!![]+!![])+(!+[]+!![]));KdjoWqq.lBZdhZdXoE-=+((!+[]+!![]+!![]+!![]+!![]+!![]+!![]+!![]+[])+(+!![])+(!+[]+!![]+!![]+!![]+!![]+!![]+!![])+(!+[]+!![]+!![]+!![]+!![])+(+[])+(!+[]+!![]+!![]+!![])+(!+[]+!![])+(!+[]+!![]+!![]+!![]+!![])+(!+[]+!![]+!![]))/+((!+[]+!![]+!![]+!![]+!![]+!![]+!![]+[])+(!+[]+!![]+!![])+(!+[]+!![]+!![]+!![])+(!+[]+!![]+!![])+(!+[]+!![]+!![])+(+!![])+(+!![])+(!+[]+!![]+!![]+!![])+(!+[]+!![]+!![]+!![]+!![]+!![]));KdjoWqq.lBZdhZdXoE-=+((!+[]+!![]+!![]+!![]+!![]+!![]+!![]+!![]+[])+(+!![])+(!+[]+!![]+!![]+!![]+!![]+!![]+!![])+(!+[]+!![]+!![]+!![]+!![])+(+[])+(!+[]+!![]+!![]+!![])+(!+[]+!![])+(!+[]+!![]+!![]+!![])+(!+[]+!![]+!![]))/+((!+[]+!![]+!![]+!![]+!![]+[])+(+!![])+(!+[]+!![]+!![]+!![]+!![]+!![]+!![]+!![])+(!+[]+!![]+!![]+!![]+!![]+!![]+!![]+!![]+!![])+(!+[]+!![]+!![]+!![]+!![])+(!+[]+!![])+(!+[]+!![]+!![]+!![]+!![]+!![]+!![]+!![]+!![])+(!+[]+!![]+!![]+!![]+!![]+!![])+(+!![]));a.value = (+KdjoWqq.lBZdhZdXoE + t.length).toFixed(10); '; 121'\n",
      "        f.action += location.hash;\n",
      "        f.submit();\n",
      "      }, 4000);\n",
      "    }, false);\n",
      "  })();\n",
      "  //]]>\n",
      "</script>\n",
      "\n",
      "\n",
      "</head>\n",
      "<body>\n",
      "  <table width=\"100%\" height=\"100%\" cellpadding=\"20\">\n",
      "    <tr>\n",
      "      <td align=\"center\" valign=\"middle\">\n",
      "          <div class=\"cf-browser-verification cf-im-under-attack\">\n",
      "  <noscript><h1 data-translate=\"turn_on_js\" style=\"color:#bd2426;\">Please turn JavaScript on and reload the page.</h1></noscript>\n",
      "  <div id=\"cf-content\" style=\"display:none\">\n",
      "    \n",
      "    <div>\n",
      "      <div class=\"bubbles\"></div>\n",
      "      <div class=\"bubbles\"></div>\n",
      "      <div class=\"bubbles\"></div>\n",
      "    </div>\n",
      "    <h1><span data-translate=\"checking_browser\">Checking your browser before accessing</span> platzi.com.</h1>\n",
      "    \n",
      "    <p data-translate=\"process_is_automatic\">This process is automatic. Your browser will redirect to your requested content shortly.</p>\n",
      "    <p data-translate=\"allow_5_secs\">Please allow up to 5 seconds&hellip;</p>\n",
      "  </div>\n",
      "   \n",
      "  <form id=\"challenge-form\" action=\"/cdn-cgi/l/chk_jschl\" method=\"get\">\n",
      "    <input type=\"hidden\" name=\"s\" value=\"10b0b3966e98d56484dbc3e306d68890250ef655-1554833047-1800-AauipynAwr4MJA4kuRrwi8GMO2BXwwmysln3+W5+K8AL7IiL7iTsFPotrLUq9OYsDtb1fwRcseUwOG0iikelYW8HI5wZeo7X0D1U1hPmN6a5bkMilkdUYf7JrpcUJ1CBDw==\"></input>\n",
      "    <input type=\"hidden\" name=\"jschl_vc\" value=\"17a2ffc52f479c263c45213b4c3480d0\"/>\n",
      "    <input type=\"hidden\" name=\"pass\" value=\"1554833051.02-YEZ8aMdQ6y\"/>\n",
      "    <input type=\"hidden\" id=\"jschl-answer\" name=\"jschl_answer\"/>\n",
      "  </form>\n",
      "  \n",
      "</div>\n",
      "\n",
      "          \n",
      "          <div class=\"attribution\">\n",
      "            <a href=\"https://www.cloudflare.com/5xx-error-landing?utm_source=iuam\" target=\"_blank\" style=\"font-size: 12px;\">DDoS protection by Cloudflare</a>\n",
      "            <br>\n",
      "            Ray ID: 4c4e66cfda73bad4\n",
      "          </div>\n",
      "      </td>\n",
      "     \n",
      "    </tr>\n",
      "  </table>\n",
      "</body>\n",
      "</html>\n",
      "\n"
     ]
    }
   ],
   "source": [
    "print(response.text)"
   ]
  },
  {
   "cell_type": "code",
   "execution_count": 76,
   "metadata": {},
   "outputs": [
    {
     "name": "stdout",
     "output_type": "stream",
     "text": [
      "Tue, 09 Apr 2019 19:15:48 GMT\n"
     ]
    }
   ],
   "source": [
    "print(response.headers['Date'])"
   ]
  },
  {
   "cell_type": "code",
   "execution_count": 78,
   "metadata": {},
   "outputs": [
    {
     "name": "stdout",
     "output_type": "stream",
     "text": [
      "Aprende marketing, programación y diseño web con Platzi\n",
      "[<meta content=\"Aprende desarrollo web y de apps, marketing online, diseño de interfaces, administración de servers y mucho más. Con clases en vivo y profesores genios de la industria. Suscríbete hoy a la mejor experiencia en educación online.\" name=\"description\"/>]\n",
      "Aprende desarrollo web y de apps, marketing online, diseño de interfaces, administración de servers y mucho más. Con clases en vivo y profesores genios de la industria. Suscríbete hoy a la mejor experiencia en educación online.\n"
     ]
    }
   ],
   "source": [
    "import bs4\n",
    "soup = bs4.BeautifulSoup(response.text,'html.parser')\n",
    "print(soup.title.text)\n",
    "print(soup.select('meta[name=description]'))\n",
    "print(soup.select('meta[name=description]')[0]['content'])"
   ]
  },
  {
   "cell_type": "code",
   "execution_count": 110,
   "metadata": {},
   "outputs": [],
   "source": [
    "courses_links = soup.select('.CourseCategories-item')\n",
    "courses = [course['href'] for course in courses_links]\n",
    "\n",
    "for course in courses:\n",
    "    print(course)"
   ]
  },
  {
   "cell_type": "code",
   "execution_count": 20,
   "metadata": {},
   "outputs": [
    {
     "name": "stdout",
     "output_type": "stream",
     "text": [
      "[<meta content=\"noindex, nofollow\" name=\"robots\"/>]\n"
     ]
    }
   ],
   "source": [
    ".panecontet h1"
   ]
  },
  {
   "cell_type": "code",
   "execution_count": 99,
   "metadata": {},
   "outputs": [
    {
     "name": "stdout",
     "output_type": "stream",
     "text": [
      "La Razón - El Diario Nacional de Bolivia - Fundado en 1990 - La Razón \n",
      "\n",
      "[<meta content=\"La Razón, la-razon.com, diario, periódico, noticias, La Paz, Bolivia, opinión, nacional, seguridad nacional, política, economía, notas empresariales, ciudades, seguridad ciudadana, sociedad, así va la vida, mundo, internacional, la revista, cultura, espectáculos, tv-radio, televisión, radio, sociales, marcas, deportes, fútbol, polideportivo, miscelánea, multimedia, videos, fotogalerías, audio, infografías, mía, tendencias, escape, financiero, animal político, la gaceta jurídica, especiales, tiempo, weather, buscador, restricciones, servicios, itinerarios de vuelos, reclamos, denuncias, horóscopo, teléfonos de emergencia, cartelera, cine, cotizaciones, promociones, news, newspapers\" name=\"KEYWORDS\"/>] \n",
      "\n",
      "La Razón, la-razon.com, diario, periódico, noticias, La Paz, Bolivia, opinión, nacional, seguridad nacional, política, economía, notas empresariales, ciudades, seguridad ciudadana, sociedad, así va la vida, mundo, internacional, la revista, cultura, espectáculos, tv-radio, televisión, radio, sociales, marcas, deportes, fútbol, polideportivo, miscelánea, multimedia, videos, fotogalerías, audio, infografías, mía, tendencias, escape, financiero, animal político, la gaceta jurídica, especiales, tiempo, weather, buscador, restricciones, servicios, itinerarios de vuelos, reclamos, denuncias, horóscopo, teléfonos de emergencia, cartelera, cine, cotizaciones, promociones, news, newspapers\n"
     ]
    }
   ],
   "source": [
    "import requests\n",
    "response = requests.get('http://www.la-razon.com/')\n",
    "import bs4\n",
    "soup = bs4.BeautifulSoup(response.text,'html.parser')\n",
    "print(soup.title.text,'\\n')\n",
    "print(soup.select('meta[name=KEYWORDS]'),'\\n')\n",
    "print(soup.select('meta[name=KEYWORDS]')[0]['content'])"
   ]
  },
  {
   "cell_type": "code",
   "execution_count": 192,
   "metadata": {},
   "outputs": [
    {
     "name": "stdout",
     "output_type": "stream",
     "text": [
      "Bolivia y Turquía profundizan relaciones, pactan visita de Erdoğan y proyectan $us 500 MM de comercio \n",
      "\n",
      "La línea aérea Turkish Airlines llegará al Bolivia en el primer trimestre de 2020 y se prevé la visita del presidente de Turquía, Recep Tayyip Erdoğan, para fines de año, quien está interesado en los proyectos bolivianos de energía. \n",
      " \n",
      "\n",
      "Gobierno denuncia nuevo intento de intromisión de Estados Unidos  \n",
      "\n",
      "El vicepresidente Álvaro García Linera rechazó la resolución que trata el Senado de Estados Unidos sobre la democracia en Bolivia. Dijo que como \"potencia decadente\", debería preocuparse en resolver sus problemas internos. \n",
      " \n",
      "\n",
      "El diputado potosino Víctor Borda asume por horas la presidencia del Estado \n",
      "\n",
      "El vicepresidente Álvaro García explicó que  viajará hasta Alemania “en una visita rápida”, mientras que la  presidenta del Senado, Adriana Salvatierra, se encuentra en Argentina. Borda asume la presidencia hasta este miércoles, cuando llegue el presidente Evo Morales. \n",
      " \n",
      "\n",
      "Suman 17 los aprehendidos por el caso de tráfico de medicamentos; dos cayeron en Santa Cruz  \n",
      "\n",
      "En el mercado Barrio Lindo, en Santa Cruz, la Policía halló “gran cantidad” de medicamentos de contrabando en 10 casetas, las mismas que luego fueron precintadas. \n",
      " \n",
      "\n",
      "Gobierno suspende la retención de 20 centavos en el peaje en favor de los choferes \n",
      "\n",
      "El diputado Vícto Borda, quien funge como presidente interino del país,  reveló que \"el proceso de disolución todavía está en trámite, pero sí efectivamente  se ha instruido que a partir de esta fecha ya no haya el deposito  obligatorio\" a los choferes de La Paz. \n",
      " \n",
      "\n",
      "Policía reporta 26 feminicidios y 4 infanticidios en primer trimestre de 2019  \n",
      "\n",
      "El sistema integrado de registro y alerta inmediata tiene el objetivo de  fortalecer la capacidad operativa de la FELCV, informó el comandante de  la Policía, Rómulo Delgado. \n",
      " \n",
      "\n",
      "BCB baja encaje legal a 31,5% para inyectar liquidez a los bancos y subir créditos  \n",
      "\n",
      "En conferencia de prensa, el Presidente del BCB explicó que uno de  los objetivos de rebajar el encaje legal es que los bancos tengan más  recursos disponibles para otorgar créditos. \n",
      " \n",
      "\n",
      "Concejal Salazar completa Comisión de Ética edil que verá el caso Tersa  \n",
      "\n",
      "“Es una tarea muy seria y la asumo con la misma seriedad, es importante  que sepan que hay una forma de trabajo en la comisión que es con  objetividad, imparcialidad y así vamos a realizar el trabajo\", dijo la concejala Kathia Salazar. \n",
      " \n",
      "\n",
      "Legislativo interpela a Pary este jueves por la demanda marítima \n",
      "\n",
      "El pliego de interpelación busca absolver las dudas sobre la decisión técnico jurídico  que llevó al país a recurrir a la CIJ para ese caso; la estrategia del  Gobierno dar solucionar al centenario reclamo, y la transparencia de los  recursos invertidos en el litigio \n",
      " \n",
      "\n",
      "Micro de la línea Q se estrella contra inmueble en el Cruce de Villas \n",
      "\n",
      "El hecho sucedió minutos después de las 07.30 en la avenida Esteban  Arce, cerca de la rotonda que se ubica a unos 100 metros del cruce que  conecta a las villas Copacabana y Santa Antonio \n",
      " \n",
      "\n",
      "May defiende en la UE su solicitud de prórroga hasta el 30 de junio   \n",
      "\n",
      "Las negociaciones entre el gobierno y la oposición para desbloquear  la situación se aplazaron hasta después de la cumbre europea del  miércoles, anunció Downing Street. \n",
      " \n",
      "\n",
      "Cámara baja rechaza objeciones de Duque a justicia de paz en Colombia \n",
      "\n",
      "La plenaria de la Cámara de Representantes, con 110 votos por el sí y 44 votos por el no, aprobó \"el rechazo de las objeciones presidenciales\" a la regulación de la Jurisdicción Especial para la Paz (JEP), indicó la cámara en Twitter. \n",
      " \n",
      "\n",
      "Aprehenden a ex alto mando de la UELINC por denuncias de corrupción \n",
      "\n",
      " \n",
      " \n",
      "\n",
      "Bolivia oferta a grandes inversores 4 proyectos estratégicos: bioceánico, hidrovía, litio y hub \n",
      "\n",
      "La excoordinadora General de la Unidad Ejecutora de Lucha Integral Contra el Narcotráfico (UELICN) Vivian K. F. S. fue aprehendida y en las próximas horas se determinará si se defiende en libertad o desde la cárcel. Ya hay dos encarceladas \n",
      " \n",
      "\n",
      "Emiratos Árabes se interesa por el litio boliviano y Mallku Khota; se pactan reuniones \n",
      "\n",
      "“Bolivia ha demostrado que aplicando su modelo económico resiste hasta  los shocks externos más extremos como la caída de los precios del  petróleo, mineral y otros productos agrícolas\", destacó Evo Morales en novena Reunión Anual de Inversión 2019. \n",
      " \n",
      "\n",
      "Achocalla da plazo de 5 días para plan de cierre del relleno de Alpacoma antes de ampliar su uso \n",
      "\n",
      "El presidente Evo Morales destacó que la nación árabe tiene además interés en proyectos de energía e hidrocarburos como el gas y el petróleo. El canciller Diego Pary anunció que \"en un tiempo breve una delegación estará en Bolivia\" \n",
      " \n",
      "\n",
      "Reportan segundo caso de rabia canina en Oruro \n",
      "\n",
      "Dieron un plazo de cinco días a la Alcaldía y Gobernación para concluir con los trámites y aprobar el plan de cierre del relleno sanitario, condición necesaria para dar paso al uso de ese depósito por dos meses más. \n",
      " \n",
      "\n",
      "Gobierno y Alcaldía activan comisión para definir en dos meses la ubicación del nuevo relleno \n",
      "\n",
      "Exámenes de laboratorio confirmaron el segundo caso de rabia canina,  que se presentó en un área céntrica de la ciudad de Oruro, en  inmediaciones del hospital Obrero. \n",
      " \n",
      "\n",
      "Aprehenden al juez registrador de DDRR de Santa Cruz por denuncias de corrupción  \n",
      "\n",
      "En tanto concluya el trabajo se espera continuar depositando la basura  en Alpacoma. Se prevé que el lugar del futuro relleno sea además donde  se instale una futura planta de tratamiento de residuos. \n",
      " \n",
      "\n",
      "El comercio ilegal de medicamentos llegaría al 21% del mercado nacional \n",
      "\n",
      "El juez Alfredo E. y otros cuatro funcionarios de Derechos Reales de Santa Cruz están siendo investigados por supuestos actos de corrupción. Una comisión de fiscales de La Paz ejecutó las órdenes de aprehensión \n",
      " \n",
      "\n",
      "Los 'ropavejeros' comercializan también medicinas vencidas \n",
      "\n",
      "Es el dato proporcionado por la Policía con base en cálculos realizados por las empresas legales. En distintos operativos entre la Policía y Fiscalía se logró  aprehender hasta el momento a 15 personas implicadas en la red de  comercialización de medicamentos truchos. \n",
      " \n",
      "\n",
      "Jefe del Servicio Secreto de EEUU dejará su cargo, adelanta la Casa Blanca   \n",
      "\n",
      "El mercado negro de fármacos vencidos está presente en ferias de El Alto y Oruro. La mayor parte de los productos que se comercializan proceden de Estados Unidos y China. \n",
      " \n",
      "\n",
      "EEUU incluye a Guardianes de la Revolución de Irán en lista de grupos ‘terroristas’   \n",
      "\n",
      "El domingo, Trump anunció a través de un mensaje en la red Twitter la  salida de su secretaria de Seguridad Nacional, Kirstjen Nielsen, quien  encabezó sus controvertidas políticas para tratar de impedir que los  inmigrantes ilegales y los solicitantes de asilo ingresen a Estados  Unidos. \n",
      " \n",
      "\n",
      "Theresa May se reunirá este martes con Merkel y Macron sobre el ‘brexit’ \n",
      "\n",
      "El grupo se formó en Irán después de la revolución de 1979 con la  misión de defender el régimen clerical, en contraste con las unidades  militares más tradicionales que protegen las fronteras. \n",
      " \n",
      "\n",
      "Morales lamenta que una discusión sobre el mar haya derivado en la muerte de un boliviano en Chile \n",
      "\n",
      "Antes de reunirse por Macron a las 12.00 (en Bolivia), May se  entrevistará por la mañana con la canciller alemana Angela Merkel en  Berlín la víspera de una nueva cumbre dedicada al “brexit”. \n",
      " \n",
      "\n",
      "Gobierno lanza web Investbolivia para captar inversores del mundo \n",
      "\n",
      "El presidente Evo Morales lamentó que una discusión sobre la temática marítima haya tenido el desenlace tráfico. El autor de la muerte fue captura y será sometido a la justicia \n",
      " \n",
      "\n",
      "Diputados pedirá informe a la Fiscalía por mora en el caso de choferes; opositores ratifican denuncia \n",
      "\n",
      "“Los invitamos a visitar la página que es un medio oficial del Estado de  promoción de inversiones”, destacó Morales horas antes, en su intervención en la novena Reunión Anual de Inversión 2019 \n",
      " \n",
      "\n",
      "Madre que ahogó a su bebé es enviada a la cárcel en Santa Cruz \n",
      "\n",
      "El caso fue denunciado por los diputados opositores Wilson Santamaría y  Rafael Quispe, quienes este lunes prestaron sus declaraciones  informativas y reiteraron el tenor de sus acusaciones contra la  Federación Departamental de Choferes 1º de Mayo y Andina. \n",
      " \n",
      "\n",
      "Copa América 2020 será en Argentina y Colombia; Bolivia va a Buenos Aires \n",
      "\n",
      "El fiscal del caso, José Tarqui, informó a la red Unitel que la sindicada confesó el crimen, por lo que fue imputada por el delito de infanticidio. \n",
      " \n",
      "\n",
      "Tottenham-City y Liverpool-Oporto abren los cuartos de Champions  \n",
      "\n",
      "El presidente de Conmebol, Alejandro  Domínguez, explicó que el cambio de formato responde a favorecer a los  aficionados para acceder con más facilidad a los encuentros de sus  equipos nacionales \n",
      " \n",
      "\n",
      "Argentina vence a Chile y lidera el hexagonal del Sudamericano Sub-17  \n",
      "\n",
      "Comienza la ronda de cuartos de final de Liga de Campeones de Europa  con los partidos de ida, las revanchas se disputarán el 16 y 17 de  abril. \n",
      " \n",
      "\n",
      "Leitao debutará en Aurora  como DT \n",
      "\n",
      "Los albicelestes se adelantaron en el  marcador apenas al minuto de juego con gol de Matías Godoy. El mismo  jugador se encargó de aumentar la diferencia de penal sobre el minuto  38. \n",
      " \n",
      "\n",
      "La FBF y MediaPro buscan otro rival para la selección \n",
      "\n",
      "El estratega brasileño no tiene carrera como entrenador principal. Hasta  el año pasado fue asistente técnico de Álvaro Peña en Wilstermann. \n",
      " \n",
      "\n",
      "Pelé recibe alta y se apresta a regresar a Brasil \n",
      "\n",
      "De acuerdo con las normativas el choque debe ser con una selección, dado que se realizará en el marco de las fechas FIFA.  \n",
      " \n",
      "\n",
      "Las ‘Mega’ del Tigre, Bolívar y Always, en su aniversario \n",
      "\n",
      "Pelé publicó este lunes en su cuenta en Instagram una foto, sin fecha,  en la cual se le ve en el hospital junto a Neymar Jr. actual ídolo de la  Seleçao. \n",
      " \n",
      "\n"
     ]
    }
   ],
   "source": [
    "courses_titulos = soup.select('.bd h2 a')\n",
    "#courses = [course.attrs.get('href') for course in courses_links]\n",
    "courses_contenidos = soup.select('.tx p')\n",
    "\n",
    "for i in range(0,len(courses_titulos)):\n",
    "    print(courses_titulos[i].text,'\\n')\n",
    "    print(courses_contenidos[i].text,'\\n','\\n')\n",
    "\n",
    "\n",
    "# for course in courses_contenidos:\n",
    "#     print(course.text)\n",
    "\n",
    "# print('\\n')\n",
    "    \n",
    "# for course in courses_links:\n",
    "#     print(course.text)"
   ]
  },
  {
   "cell_type": "code",
   "execution_count": null,
   "metadata": {},
   "outputs": [],
   "source": [
    "courses_links = soup.select('.gd a ')\n",
    "courses = [course.attrs.get('href') for course in courses_links]"
   ]
  }
 ],
 "metadata": {
  "kernelspec": {
   "display_name": "Python 3",
   "language": "python",
   "name": "python3"
  },
  "language_info": {
   "codemirror_mode": {
    "name": "ipython",
    "version": 3
   },
   "file_extension": ".py",
   "mimetype": "text/x-python",
   "name": "python",
   "nbconvert_exporter": "python",
   "pygments_lexer": "ipython3",
   "version": "3.7.2"
  }
 },
 "nbformat": 4,
 "nbformat_minor": 2
}
